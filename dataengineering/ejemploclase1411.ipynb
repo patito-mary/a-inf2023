{
 "cells": [
  {
   "cell_type": "code",
   "execution_count": 31,
   "metadata": {},
   "outputs": [],
   "source": [
    "import h5py\n",
    "import numpy as np"
   ]
  },
  {
   "cell_type": "code",
   "execution_count": 26,
   "metadata": {},
   "outputs": [],
   "source": [
    "# Creamos un archivo en modo escritura\n",
    "f = h5py.File(\"testing.h5\", \"w\")"
   ]
  },
  {
   "cell_type": "code",
   "execution_count": 27,
   "metadata": {},
   "outputs": [],
   "source": [
    "f.close()"
   ]
  },
  {
   "cell_type": "code",
   "execution_count": 28,
   "metadata": {},
   "outputs": [
    {
     "data": {
      "text/plain": [
       "<HDF5 group \"/Data\" (0 members)>"
      ]
     },
     "execution_count": 28,
     "metadata": {},
     "output_type": "execute_result"
    }
   ],
   "source": [
    "# Abrimos el archivo anterior en modo lectura y escritura:\n",
    "f = h5py.File(\"testing.h5\", \"r+\") \n",
    "f.create_group(\"Header\")\n",
    "f.create_group(\"Data\")"
   ]
  },
  {
   "cell_type": "code",
   "execution_count": 29,
   "metadata": {},
   "outputs": [
    {
     "data": {
      "text/plain": [
       "['Data', 'Header']"
      ]
     },
     "execution_count": 29,
     "metadata": {},
     "output_type": "execute_result"
    }
   ],
   "source": [
    "list(f.keys())"
   ]
  },
  {
   "cell_type": "code",
   "execution_count": 30,
   "metadata": {},
   "outputs": [],
   "source": [
    "f.close()"
   ]
  },
  {
   "cell_type": "markdown",
   "metadata": {},
   "source": [
    "Cargamos los datos de las clases anterior dentro del archivo"
   ]
  },
  {
   "cell_type": "code",
   "execution_count": 33,
   "metadata": {},
   "outputs": [],
   "source": [
    "rand1 = np.loadtxt(\"datosconfstring.txt\", usecols=[1], unpack=True) "
   ]
  },
  {
   "cell_type": "code",
   "execution_count": 35,
   "metadata": {},
   "outputs": [],
   "source": [
    "f = h5py.File(\"testing.h5\", \"r+\") \n",
    "# Almacenamos nuestro array:\n",
    "f[\"rand1\"] = rand1\n",
    "# También puedo agregar datos dentro de los grupos:\n",
    "f = h5py.File(\"testing.h5\", \"r+\") \n",
    "f[\"Data/rand2\"] = rand1+10.7\n",
    "# Incluso, los grupos nuevos se crean automáticamente al momento de almacenar un dataset:\n",
    "f = h5py.File(\"testing.h5\", \"r+\") \n",
    "f[\"DataBad/rand3\"] = rand1/0.68\n",
    "f.close()"
   ]
  },
  {
   "cell_type": "code",
   "execution_count": 36,
   "metadata": {},
   "outputs": [],
   "source": [
    "f = h5py.File(\"testing.h5\", \"r\")"
   ]
  },
  {
   "cell_type": "code",
   "execution_count": 37,
   "metadata": {},
   "outputs": [
    {
     "data": {
      "text/plain": [
       "array([ 1.80119, -0.65652, -0.28857, -0.4815 , -1.36727,  0.43834,\n",
       "       -0.22417, -0.45573, -1.17849,  1.34538, -0.49998, -1.50806,\n",
       "        0.29449, -0.20966, -0.98622, -0.53844,  0.0094 , -0.39542,\n",
       "        0.25489,  0.10071, -0.97487, -0.11708, -0.18174,  0.0258 ,\n",
       "       -1.39065, -1.44377, -0.2093 , -1.91241,  0.7579 , -0.6324 ,\n",
       "       -1.282  , -0.52952, -0.49037,  1.20334, -2.57843,  1.35941,\n",
       "        1.16968, -0.56671,  1.49677,  0.81358, -0.41298,  0.47609,\n",
       "       -0.79996,  0.66348, -0.52287,  2.5363 , -0.568  , -0.73209,\n",
       "       -0.81781,  0.54013])"
      ]
     },
     "execution_count": 37,
     "metadata": {},
     "output_type": "execute_result"
    }
   ],
   "source": [
    "#podemos visualizar usando:\n",
    "f['rand1'][:50]"
   ]
  },
  {
   "cell_type": "code",
   "execution_count": 39,
   "metadata": {},
   "outputs": [],
   "source": [
    "f.close()"
   ]
  },
  {
   "cell_type": "code",
   "execution_count": 56,
   "metadata": {},
   "outputs": [],
   "source": [
    "f = h5py.File('testing.h5', 'r+')"
   ]
  },
  {
   "cell_type": "code",
   "execution_count": 43,
   "metadata": {},
   "outputs": [],
   "source": [
    "f.attrs.keys()\n",
    "#si queremos agrgar attrs le hacemos como numpy\n",
    "f.attrs['Description'] = 'dumpy archive made in my computer'"
   ]
  },
  {
   "cell_type": "code",
   "execution_count": 51,
   "metadata": {},
   "outputs": [
    {
     "name": "stdout",
     "output_type": "stream",
     "text": [
      "El primer atributo guardado jeje: dumpy archive made in my computer \n"
     ]
    }
   ],
   "source": [
    "a = f.attrs['Description']\n",
    "print(f'El primer atributo guardado jeje: {a} ')"
   ]
  },
  {
   "cell_type": "code",
   "execution_count": 52,
   "metadata": {},
   "outputs": [],
   "source": [
    "#hagamos mas atributos\n",
    "f.attrs['Date'] = '11-14-23'\n",
    "f.attrs['Weather'] = 'cloudy'\n",
    "f.attrs['pet'] = 'cat'"
   ]
  },
  {
   "cell_type": "code",
   "execution_count": 61,
   "metadata": {},
   "outputs": [
    {
     "data": {
      "text/plain": [
       "<HDF5 group \"/Header\" (0 members)>"
      ]
     },
     "execution_count": 61,
     "metadata": {},
     "output_type": "execute_result"
    }
   ],
   "source": [
    "f['Header']"
   ]
  },
  {
   "cell_type": "code",
   "execution_count": 65,
   "metadata": {},
   "outputs": [],
   "source": [
    "f['Header'].attrs['Clase'] = 'HCAI 2023'\n",
    "f['Header'].attrs['Hora'] = '12.46pm'\n",
    "f['Header'].attrs['Estudiantes'] = '6 mas oyente'"
   ]
  },
  {
   "cell_type": "code",
   "execution_count": 71,
   "metadata": {},
   "outputs": [
    {
     "data": {
      "text/plain": [
       "['Clase', 'Estudiantes', 'Hora']"
      ]
     },
     "execution_count": 71,
     "metadata": {},
     "output_type": "execute_result"
    }
   ],
   "source": [
    "list(f['Header'].attrs.keys())"
   ]
  },
  {
   "cell_type": "code",
   "execution_count": 72,
   "metadata": {},
   "outputs": [],
   "source": [
    "f.close()"
   ]
  },
  {
   "cell_type": "code",
   "execution_count": null,
   "metadata": {},
   "outputs": [],
   "source": []
  }
 ],
 "metadata": {
  "kernelspec": {
   "display_name": "Python 3",
   "language": "python",
   "name": "python3"
  },
  "language_info": {
   "codemirror_mode": {
    "name": "ipython",
    "version": 3
   },
   "file_extension": ".py",
   "mimetype": "text/x-python",
   "name": "python",
   "nbconvert_exporter": "python",
   "pygments_lexer": "ipython3",
   "version": "3.11.6"
  }
 },
 "nbformat": 4,
 "nbformat_minor": 2
}
