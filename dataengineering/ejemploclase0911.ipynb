{
 "cells": [
  {
   "cell_type": "code",
   "execution_count": 7,
   "metadata": {},
   "outputs": [],
   "source": [
    "import struct\n",
    "import numpy as np"
   ]
  },
  {
   "cell_type": "code",
   "execution_count": 6,
   "metadata": {},
   "outputs": [],
   "source": [
    "# con numpy queda\n",
    "f1 = np.genfromtxt('datosconfstring.txt', usecols=[1], unpack=True)\n",
    "idxs= np.arange(f1.shape[0])\n"
   ]
  },
  {
   "cell_type": "code",
   "execution_count": 27,
   "metadata": {},
   "outputs": [
    {
     "name": "stdout",
     "output_type": "stream",
     "text": [
      "b'\\x05\\x00\\x00\\x00' b'33aB'\n"
     ]
    }
   ],
   "source": [
    "# en binario seria\n",
    "test = 5\n",
    "test2 = 56.3\n",
    "test_bin = struct.pack('i',test)\n",
    "test2_bin = struct.pack('f', test2)\n",
    "print(test_bin, test2_bin)"
   ]
  },
  {
   "cell_type": "code",
   "execution_count": 25,
   "metadata": {},
   "outputs": [],
   "source": [
    "# crear archivo binario\n",
    "with open('testers.pato', 'wb') as f:\n",
    "    f.write(test_bin)\n",
    "    f.write(test2_bin)"
   ]
  },
  {
   "cell_type": "code",
   "execution_count": 33,
   "metadata": {},
   "outputs": [
    {
     "name": "stdout",
     "output_type": "stream",
     "text": [
      "(5, 56.29999923706055)\n"
     ]
    }
   ],
   "source": [
    "#desencriptar binario\n",
    "with open('testers.pato', 'rb') as f:\n",
    "    numberbin = f.read()\n",
    "\n",
    "numbers = struct.unpack('if', numberbin)\n",
    "print(numbers)"
   ]
  },
  {
   "cell_type": "code",
   "execution_count": 37,
   "metadata": {},
   "outputs": [],
   "source": [
    "with open('f1.pato', 'wb') as f:\n",
    "    for value in idxs:\n",
    "        bin_data = struct.pack('f', value)\n",
    "        f.write(bin_data)\n",
    "    for value in f1:\n",
    "        bin_data = struct.pack('f', value)\n",
    "        f.write(bin_data)\n"
   ]
  },
  {
   "cell_type": "code",
   "execution_count": null,
   "metadata": {},
   "outputs": [],
   "source": []
  }
 ],
 "metadata": {
  "kernelspec": {
   "display_name": "Python 3",
   "language": "python",
   "name": "python3"
  },
  "language_info": {
   "codemirror_mode": {
    "name": "ipython",
    "version": 3
   },
   "file_extension": ".py",
   "mimetype": "text/x-python",
   "name": "python",
   "nbconvert_exporter": "python",
   "pygments_lexer": "ipython3",
   "version": "3.11.6"
  }
 },
 "nbformat": 4,
 "nbformat_minor": 2
}
